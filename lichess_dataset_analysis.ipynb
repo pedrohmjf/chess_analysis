{
 "cells": [
  {
   "cell_type": "code",
   "execution_count": 1,
   "id": "1d53f2bc",
   "metadata": {
    "_cell_guid": "b1076dfc-b9ad-4769-8c92-a6c4dae69d19",
    "_uuid": "8f2839f25d086af736a60e9eeb907d3b93b6e0e5",
    "execution": {
     "iopub.execute_input": "2023-05-26T14:57:01.973190Z",
     "iopub.status.busy": "2023-05-26T14:57:01.972139Z",
     "iopub.status.idle": "2023-05-26T14:57:03.305992Z",
     "shell.execute_reply": "2023-05-26T14:57:03.305150Z"
    },
    "papermill": {
     "duration": 1.344292,
     "end_time": "2023-05-26T14:57:03.308367",
     "exception": false,
     "start_time": "2023-05-26T14:57:01.964075",
     "status": "completed"
    },
    "tags": []
   },
   "outputs": [
    {
     "name": "stderr",
     "output_type": "stream",
     "text": [
      "/opt/conda/lib/python3.10/site-packages/scipy/__init__.py:146: UserWarning: A NumPy version >=1.16.5 and <1.23.0 is required for this version of SciPy (detected version 1.23.5\n",
      "  warnings.warn(f\"A NumPy version >={np_minversion} and <{np_maxversion}\"\n"
     ]
    },
    {
     "name": "stdout",
     "output_type": "stream",
     "text": [
      "/kaggle/input/chess/games.csv\n"
     ]
    }
   ],
   "source": [
    "# This Python 3 environment comes with many helpful analytics libraries installed\n",
    "# It is defined by the kaggle/python Docker image: https://github.com/kaggle/docker-python\n",
    "# For example, here's several helpful packages to load\n",
    "\n",
    "import numpy as np # linear algebra\n",
    "import pandas as pd # data processing, CSV file I/O (e.g. pd.read_csv)\n",
    "import matplotlib.pyplot as plt\n",
    "import seaborn as sns\n",
    "\n",
    "import sys\n",
    "import warnings\n",
    "\n",
    "warnings.filterwarnings('ignore')\n",
    "\n",
    "# Input data files are available in the read-only \"../input/\" directory\n",
    "# For example, running this (by clicking run or pressing Shift+Enter) will list all files under the input directory\n",
    "\n",
    "import os\n",
    "for dirname, _, filenames in os.walk('/kaggle/input'):\n",
    "    for filename in filenames:\n",
    "        print(os.path.join(dirname, filename))\n",
    "\n",
    "# You can write up to 20GB to the current directory (/kaggle/working/) that gets preserved as output when you create a version using \"Save & Run All\" \n",
    "# You can also write temporary files to /kaggle/temp/, but they won't be saved outside of the current session"
   ]
  },
  {
   "cell_type": "code",
   "execution_count": 2,
   "id": "29abf769",
   "metadata": {
    "execution": {
     "iopub.execute_input": "2023-05-26T14:57:03.322476Z",
     "iopub.status.busy": "2023-05-26T14:57:03.321814Z",
     "iopub.status.idle": "2023-05-26T14:57:03.599232Z",
     "shell.execute_reply": "2023-05-26T14:57:03.598345Z"
    },
    "papermill": {
     "duration": 0.287555,
     "end_time": "2023-05-26T14:57:03.602125",
     "exception": false,
     "start_time": "2023-05-26T14:57:03.314570",
     "status": "completed"
    },
    "tags": []
   },
   "outputs": [],
   "source": [
    "# Caminho até o arquivo CSV a ser usado\n",
    "chess_filepath = '/kaggle/input/chess/games.csv'\n",
    "# Lê o arquivo\n",
    "chess_data = pd.read_csv(chess_filepath)"
   ]
  },
  {
   "cell_type": "markdown",
   "id": "b4927380",
   "metadata": {
    "papermill": {
     "duration": 0.005618,
     "end_time": "2023-05-26T14:57:03.614193",
     "exception": false,
     "start_time": "2023-05-26T14:57:03.608575",
     "status": "completed"
    },
    "tags": []
   },
   "source": [
    "# Informações básicas sobre o dataset"
   ]
  },
  {
   "cell_type": "code",
   "execution_count": 3,
   "id": "ff99a3a4",
   "metadata": {
    "execution": {
     "iopub.execute_input": "2023-05-26T14:57:03.628392Z",
     "iopub.status.busy": "2023-05-26T14:57:03.627427Z",
     "iopub.status.idle": "2023-05-26T14:57:03.665820Z",
     "shell.execute_reply": "2023-05-26T14:57:03.664500Z"
    },
    "papermill": {
     "duration": 0.048126,
     "end_time": "2023-05-26T14:57:03.668341",
     "exception": false,
     "start_time": "2023-05-26T14:57:03.620215",
     "status": "completed"
    },
    "tags": []
   },
   "outputs": [
    {
     "data": {
      "text/html": [
       "<div>\n",
       "<style scoped>\n",
       "    .dataframe tbody tr th:only-of-type {\n",
       "        vertical-align: middle;\n",
       "    }\n",
       "\n",
       "    .dataframe tbody tr th {\n",
       "        vertical-align: top;\n",
       "    }\n",
       "\n",
       "    .dataframe thead th {\n",
       "        text-align: right;\n",
       "    }\n",
       "</style>\n",
       "<table border=\"1\" class=\"dataframe\">\n",
       "  <thead>\n",
       "    <tr style=\"text-align: right;\">\n",
       "      <th></th>\n",
       "      <th>id</th>\n",
       "      <th>rated</th>\n",
       "      <th>created_at</th>\n",
       "      <th>last_move_at</th>\n",
       "      <th>turns</th>\n",
       "      <th>victory_status</th>\n",
       "      <th>winner</th>\n",
       "      <th>increment_code</th>\n",
       "      <th>white_id</th>\n",
       "      <th>white_rating</th>\n",
       "      <th>black_id</th>\n",
       "      <th>black_rating</th>\n",
       "      <th>moves</th>\n",
       "      <th>opening_eco</th>\n",
       "      <th>opening_name</th>\n",
       "      <th>opening_ply</th>\n",
       "    </tr>\n",
       "  </thead>\n",
       "  <tbody>\n",
       "    <tr>\n",
       "      <th>0</th>\n",
       "      <td>TZJHLljE</td>\n",
       "      <td>False</td>\n",
       "      <td>1.504210e+12</td>\n",
       "      <td>1.504210e+12</td>\n",
       "      <td>13</td>\n",
       "      <td>outoftime</td>\n",
       "      <td>white</td>\n",
       "      <td>15+2</td>\n",
       "      <td>bourgris</td>\n",
       "      <td>1500</td>\n",
       "      <td>a-00</td>\n",
       "      <td>1191</td>\n",
       "      <td>d4 d5 c4 c6 cxd5 e6 dxe6 fxe6 Nf3 Bb4+ Nc3 Ba5...</td>\n",
       "      <td>D10</td>\n",
       "      <td>Slav Defense: Exchange Variation</td>\n",
       "      <td>5</td>\n",
       "    </tr>\n",
       "    <tr>\n",
       "      <th>1</th>\n",
       "      <td>l1NXvwaE</td>\n",
       "      <td>True</td>\n",
       "      <td>1.504130e+12</td>\n",
       "      <td>1.504130e+12</td>\n",
       "      <td>16</td>\n",
       "      <td>resign</td>\n",
       "      <td>black</td>\n",
       "      <td>5+10</td>\n",
       "      <td>a-00</td>\n",
       "      <td>1322</td>\n",
       "      <td>skinnerua</td>\n",
       "      <td>1261</td>\n",
       "      <td>d4 Nc6 e4 e5 f4 f6 dxe5 fxe5 fxe5 Nxe5 Qd4 Nc6...</td>\n",
       "      <td>B00</td>\n",
       "      <td>Nimzowitsch Defense: Kennedy Variation</td>\n",
       "      <td>4</td>\n",
       "    </tr>\n",
       "    <tr>\n",
       "      <th>2</th>\n",
       "      <td>mIICvQHh</td>\n",
       "      <td>True</td>\n",
       "      <td>1.504130e+12</td>\n",
       "      <td>1.504130e+12</td>\n",
       "      <td>61</td>\n",
       "      <td>mate</td>\n",
       "      <td>white</td>\n",
       "      <td>5+10</td>\n",
       "      <td>ischia</td>\n",
       "      <td>1496</td>\n",
       "      <td>a-00</td>\n",
       "      <td>1500</td>\n",
       "      <td>e4 e5 d3 d6 Be3 c6 Be2 b5 Nd2 a5 a4 c5 axb5 Nc...</td>\n",
       "      <td>C20</td>\n",
       "      <td>King's Pawn Game: Leonardis Variation</td>\n",
       "      <td>3</td>\n",
       "    </tr>\n",
       "    <tr>\n",
       "      <th>3</th>\n",
       "      <td>kWKvrqYL</td>\n",
       "      <td>True</td>\n",
       "      <td>1.504110e+12</td>\n",
       "      <td>1.504110e+12</td>\n",
       "      <td>61</td>\n",
       "      <td>mate</td>\n",
       "      <td>white</td>\n",
       "      <td>20+0</td>\n",
       "      <td>daniamurashov</td>\n",
       "      <td>1439</td>\n",
       "      <td>adivanov2009</td>\n",
       "      <td>1454</td>\n",
       "      <td>d4 d5 Nf3 Bf5 Nc3 Nf6 Bf4 Ng4 e3 Nc6 Be2 Qd7 O...</td>\n",
       "      <td>D02</td>\n",
       "      <td>Queen's Pawn Game: Zukertort Variation</td>\n",
       "      <td>3</td>\n",
       "    </tr>\n",
       "    <tr>\n",
       "      <th>4</th>\n",
       "      <td>9tXo1AUZ</td>\n",
       "      <td>True</td>\n",
       "      <td>1.504030e+12</td>\n",
       "      <td>1.504030e+12</td>\n",
       "      <td>95</td>\n",
       "      <td>mate</td>\n",
       "      <td>white</td>\n",
       "      <td>30+3</td>\n",
       "      <td>nik221107</td>\n",
       "      <td>1523</td>\n",
       "      <td>adivanov2009</td>\n",
       "      <td>1469</td>\n",
       "      <td>e4 e5 Nf3 d6 d4 Nc6 d5 Nb4 a3 Na6 Nc3 Be7 b4 N...</td>\n",
       "      <td>C41</td>\n",
       "      <td>Philidor Defense</td>\n",
       "      <td>5</td>\n",
       "    </tr>\n",
       "  </tbody>\n",
       "</table>\n",
       "</div>"
      ],
      "text/plain": [
       "         id  rated    created_at  last_move_at  turns victory_status winner  \\\n",
       "0  TZJHLljE  False  1.504210e+12  1.504210e+12     13      outoftime  white   \n",
       "1  l1NXvwaE   True  1.504130e+12  1.504130e+12     16         resign  black   \n",
       "2  mIICvQHh   True  1.504130e+12  1.504130e+12     61           mate  white   \n",
       "3  kWKvrqYL   True  1.504110e+12  1.504110e+12     61           mate  white   \n",
       "4  9tXo1AUZ   True  1.504030e+12  1.504030e+12     95           mate  white   \n",
       "\n",
       "  increment_code       white_id  white_rating      black_id  black_rating  \\\n",
       "0           15+2       bourgris          1500          a-00          1191   \n",
       "1           5+10           a-00          1322     skinnerua          1261   \n",
       "2           5+10         ischia          1496          a-00          1500   \n",
       "3           20+0  daniamurashov          1439  adivanov2009          1454   \n",
       "4           30+3      nik221107          1523  adivanov2009          1469   \n",
       "\n",
       "                                               moves opening_eco  \\\n",
       "0  d4 d5 c4 c6 cxd5 e6 dxe6 fxe6 Nf3 Bb4+ Nc3 Ba5...         D10   \n",
       "1  d4 Nc6 e4 e5 f4 f6 dxe5 fxe5 fxe5 Nxe5 Qd4 Nc6...         B00   \n",
       "2  e4 e5 d3 d6 Be3 c6 Be2 b5 Nd2 a5 a4 c5 axb5 Nc...         C20   \n",
       "3  d4 d5 Nf3 Bf5 Nc3 Nf6 Bf4 Ng4 e3 Nc6 Be2 Qd7 O...         D02   \n",
       "4  e4 e5 Nf3 d6 d4 Nc6 d5 Nb4 a3 Na6 Nc3 Be7 b4 N...         C41   \n",
       "\n",
       "                             opening_name  opening_ply  \n",
       "0        Slav Defense: Exchange Variation            5  \n",
       "1  Nimzowitsch Defense: Kennedy Variation            4  \n",
       "2   King's Pawn Game: Leonardis Variation            3  \n",
       "3  Queen's Pawn Game: Zukertort Variation            3  \n",
       "4                        Philidor Defense            5  "
      ]
     },
     "execution_count": 3,
     "metadata": {},
     "output_type": "execute_result"
    }
   ],
   "source": [
    "# Primeiras linhas\n",
    "chess_data.head()"
   ]
  },
  {
   "cell_type": "code",
   "execution_count": 4,
   "id": "ab7cd0a3",
   "metadata": {
    "execution": {
     "iopub.execute_input": "2023-05-26T14:57:03.683089Z",
     "iopub.status.busy": "2023-05-26T14:57:03.682668Z",
     "iopub.status.idle": "2023-05-26T14:57:03.768114Z",
     "shell.execute_reply": "2023-05-26T14:57:03.766820Z"
    },
    "papermill": {
     "duration": 0.09588,
     "end_time": "2023-05-26T14:57:03.770769",
     "exception": false,
     "start_time": "2023-05-26T14:57:03.674889",
     "status": "completed"
    },
    "tags": []
   },
   "outputs": [
    {
     "name": "stdout",
     "output_type": "stream",
     "text": [
      "<class 'pandas.core.frame.DataFrame'>\n",
      "RangeIndex: 20058 entries, 0 to 20057\n",
      "Data columns (total 16 columns):\n",
      " #   Column          Non-Null Count  Dtype  \n",
      "---  ------          --------------  -----  \n",
      " 0   id              20058 non-null  object \n",
      " 1   rated           20058 non-null  bool   \n",
      " 2   created_at      20058 non-null  float64\n",
      " 3   last_move_at    20058 non-null  float64\n",
      " 4   turns           20058 non-null  int64  \n",
      " 5   victory_status  20058 non-null  object \n",
      " 6   winner          20058 non-null  object \n",
      " 7   increment_code  20058 non-null  object \n",
      " 8   white_id        20058 non-null  object \n",
      " 9   white_rating    20058 non-null  int64  \n",
      " 10  black_id        20058 non-null  object \n",
      " 11  black_rating    20058 non-null  int64  \n",
      " 12  moves           20058 non-null  object \n",
      " 13  opening_eco     20058 non-null  object \n",
      " 14  opening_name    20058 non-null  object \n",
      " 15  opening_ply     20058 non-null  int64  \n",
      "dtypes: bool(1), float64(2), int64(4), object(9)\n",
      "memory usage: 2.3+ MB\n"
     ]
    }
   ],
   "source": [
    "# Informações sobre as colunas e seus tipos\n",
    "chess_data.info()"
   ]
  },
  {
   "cell_type": "code",
   "execution_count": 5,
   "id": "b05a865e",
   "metadata": {
    "execution": {
     "iopub.execute_input": "2023-05-26T14:57:03.785174Z",
     "iopub.status.busy": "2023-05-26T14:57:03.784807Z",
     "iopub.status.idle": "2023-05-26T14:57:03.821662Z",
     "shell.execute_reply": "2023-05-26T14:57:03.820493Z"
    },
    "papermill": {
     "duration": 0.047142,
     "end_time": "2023-05-26T14:57:03.824335",
     "exception": false,
     "start_time": "2023-05-26T14:57:03.777193",
     "status": "completed"
    },
    "tags": []
   },
   "outputs": [
    {
     "data": {
      "text/html": [
       "<div>\n",
       "<style scoped>\n",
       "    .dataframe tbody tr th:only-of-type {\n",
       "        vertical-align: middle;\n",
       "    }\n",
       "\n",
       "    .dataframe tbody tr th {\n",
       "        vertical-align: top;\n",
       "    }\n",
       "\n",
       "    .dataframe thead th {\n",
       "        text-align: right;\n",
       "    }\n",
       "</style>\n",
       "<table border=\"1\" class=\"dataframe\">\n",
       "  <thead>\n",
       "    <tr style=\"text-align: right;\">\n",
       "      <th></th>\n",
       "      <th>created_at</th>\n",
       "      <th>last_move_at</th>\n",
       "      <th>turns</th>\n",
       "      <th>white_rating</th>\n",
       "      <th>black_rating</th>\n",
       "      <th>opening_ply</th>\n",
       "    </tr>\n",
       "  </thead>\n",
       "  <tbody>\n",
       "    <tr>\n",
       "      <th>count</th>\n",
       "      <td>2.005800e+04</td>\n",
       "      <td>2.005800e+04</td>\n",
       "      <td>20058.000000</td>\n",
       "      <td>20058.000000</td>\n",
       "      <td>20058.000000</td>\n",
       "      <td>20058.000000</td>\n",
       "    </tr>\n",
       "    <tr>\n",
       "      <th>mean</th>\n",
       "      <td>1.483617e+12</td>\n",
       "      <td>1.483618e+12</td>\n",
       "      <td>60.465999</td>\n",
       "      <td>1596.631868</td>\n",
       "      <td>1588.831987</td>\n",
       "      <td>4.816981</td>\n",
       "    </tr>\n",
       "    <tr>\n",
       "      <th>std</th>\n",
       "      <td>2.850151e+10</td>\n",
       "      <td>2.850140e+10</td>\n",
       "      <td>33.570585</td>\n",
       "      <td>291.253376</td>\n",
       "      <td>291.036126</td>\n",
       "      <td>2.797152</td>\n",
       "    </tr>\n",
       "    <tr>\n",
       "      <th>min</th>\n",
       "      <td>1.376772e+12</td>\n",
       "      <td>1.376772e+12</td>\n",
       "      <td>1.000000</td>\n",
       "      <td>784.000000</td>\n",
       "      <td>789.000000</td>\n",
       "      <td>1.000000</td>\n",
       "    </tr>\n",
       "    <tr>\n",
       "      <th>25%</th>\n",
       "      <td>1.477548e+12</td>\n",
       "      <td>1.477548e+12</td>\n",
       "      <td>37.000000</td>\n",
       "      <td>1398.000000</td>\n",
       "      <td>1391.000000</td>\n",
       "      <td>3.000000</td>\n",
       "    </tr>\n",
       "    <tr>\n",
       "      <th>50%</th>\n",
       "      <td>1.496010e+12</td>\n",
       "      <td>1.496010e+12</td>\n",
       "      <td>55.000000</td>\n",
       "      <td>1567.000000</td>\n",
       "      <td>1562.000000</td>\n",
       "      <td>4.000000</td>\n",
       "    </tr>\n",
       "    <tr>\n",
       "      <th>75%</th>\n",
       "      <td>1.503170e+12</td>\n",
       "      <td>1.503170e+12</td>\n",
       "      <td>79.000000</td>\n",
       "      <td>1793.000000</td>\n",
       "      <td>1784.000000</td>\n",
       "      <td>6.000000</td>\n",
       "    </tr>\n",
       "    <tr>\n",
       "      <th>max</th>\n",
       "      <td>1.504493e+12</td>\n",
       "      <td>1.504494e+12</td>\n",
       "      <td>349.000000</td>\n",
       "      <td>2700.000000</td>\n",
       "      <td>2723.000000</td>\n",
       "      <td>28.000000</td>\n",
       "    </tr>\n",
       "  </tbody>\n",
       "</table>\n",
       "</div>"
      ],
      "text/plain": [
       "         created_at  last_move_at         turns  white_rating  black_rating  \\\n",
       "count  2.005800e+04  2.005800e+04  20058.000000  20058.000000  20058.000000   \n",
       "mean   1.483617e+12  1.483618e+12     60.465999   1596.631868   1588.831987   \n",
       "std    2.850151e+10  2.850140e+10     33.570585    291.253376    291.036126   \n",
       "min    1.376772e+12  1.376772e+12      1.000000    784.000000    789.000000   \n",
       "25%    1.477548e+12  1.477548e+12     37.000000   1398.000000   1391.000000   \n",
       "50%    1.496010e+12  1.496010e+12     55.000000   1567.000000   1562.000000   \n",
       "75%    1.503170e+12  1.503170e+12     79.000000   1793.000000   1784.000000   \n",
       "max    1.504493e+12  1.504494e+12    349.000000   2700.000000   2723.000000   \n",
       "\n",
       "        opening_ply  \n",
       "count  20058.000000  \n",
       "mean       4.816981  \n",
       "std        2.797152  \n",
       "min        1.000000  \n",
       "25%        3.000000  \n",
       "50%        4.000000  \n",
       "75%        6.000000  \n",
       "max       28.000000  "
      ]
     },
     "execution_count": 5,
     "metadata": {},
     "output_type": "execute_result"
    }
   ],
   "source": [
    "# Algumas medidas estatísticas básicas\n",
    "chess_data.describe()"
   ]
  },
  {
   "cell_type": "markdown",
   "id": "4cf1b1aa",
   "metadata": {
    "papermill": {
     "duration": 0.006358,
     "end_time": "2023-05-26T14:57:03.837470",
     "exception": false,
     "start_time": "2023-05-26T14:57:03.831112",
     "status": "completed"
    },
    "tags": []
   },
   "source": [
    "Essas medidas descritivas básicas nos ajudam a entender melhor os dados com os quais estamos lidando. Podemos saber, por exemplo, qual a faixa de rating dos jogadores, tendo a disposição o mínimo (min) e o máximo (max). Se, por exemplo, alguém que não entende de xadrez pegar esses dados para analisar, saberá qual é a \"ordem de grandeza\" do rating."
   ]
  },
  {
   "cell_type": "markdown",
   "id": "f4663ba8",
   "metadata": {
    "papermill": {
     "duration": 0.006257,
     "end_time": "2023-05-26T14:57:03.850223",
     "exception": false,
     "start_time": "2023-05-26T14:57:03.843966",
     "status": "completed"
    },
    "tags": []
   },
   "source": [
    "# Perguntas\n",
    "\n",
    "Com base no que pôde ser observado no dataset a partir dos códigos acima, algumas questões podem ser levantadas sobre ele. As perguntas que devem ser respondidas ao final desta análise são:\n",
    "\n",
    "* Quais são as maiores causas de vitórias nas partidas (xeque-mate, desistência, etc.)?\n",
    "* As pessoas preferem jogar partidas com ou sem rating?\n",
    "* O meu rating está acima da média?\n"
   ]
  },
  {
   "cell_type": "markdown",
   "id": "c341ba84",
   "metadata": {
    "papermill": {
     "duration": 0.006328,
     "end_time": "2023-05-26T14:57:03.863247",
     "exception": false,
     "start_time": "2023-05-26T14:57:03.856919",
     "status": "completed"
    },
    "tags": []
   },
   "source": [
    "# Status de Vitória"
   ]
  },
  {
   "cell_type": "code",
   "execution_count": 6,
   "id": "df4682eb",
   "metadata": {
    "execution": {
     "iopub.execute_input": "2023-05-26T14:57:03.878163Z",
     "iopub.status.busy": "2023-05-26T14:57:03.877754Z",
     "iopub.status.idle": "2023-05-26T14:57:04.151194Z",
     "shell.execute_reply": "2023-05-26T14:57:04.150078Z"
    },
    "papermill": {
     "duration": 0.284058,
     "end_time": "2023-05-26T14:57:04.153879",
     "exception": false,
     "start_time": "2023-05-26T14:57:03.869821",
     "status": "completed"
    },
    "tags": []
   },
   "outputs": [
    {
     "data": {
      "image/png": "[encoded data removed]",
      "text/plain": [
       "<Figure size 640x480 with 1 Axes>"
      ]
     },
     "metadata": {},
     "output_type": "display_data"
    }
   ],
   "source": [
    "sns.countplot(x=chess_data['victory_status']);"
   ]
  },
  {
   "cell_type": "markdown",
   "id": "ae105baf",
   "metadata": {
    "papermill": {
     "duration": 0.006843,
     "end_time": "2023-05-26T14:57:04.168058",
     "exception": false,
     "start_time": "2023-05-26T14:57:04.161215",
     "status": "completed"
    },
    "tags": []
   },
   "source": [
    "Podemos perceber que a imensa maioria das partidas termina em desistência. Isso é devido ao fato de que sempre que o jogo ja está perdido os adversários desistem, sem deixar que a partida chegue no xeque-mate."
   ]
  },
  {
   "cell_type": "markdown",
   "id": "cbe39855",
   "metadata": {
    "papermill": {
     "duration": 0.00678,
     "end_time": "2023-05-26T14:57:04.181970",
     "exception": false,
     "start_time": "2023-05-26T14:57:04.175190",
     "status": "completed"
    },
    "tags": []
   },
   "source": [
    "# Com ou sem rating?"
   ]
  },
  {
   "cell_type": "code",
   "execution_count": 7,
   "id": "2513904c",
   "metadata": {
    "execution": {
     "iopub.execute_input": "2023-05-26T14:57:04.198481Z",
     "iopub.status.busy": "2023-05-26T14:57:04.197568Z",
     "iopub.status.idle": "2023-05-26T14:57:04.420840Z",
     "shell.execute_reply": "2023-05-26T14:57:04.419696Z"
    },
    "papermill": {
     "duration": 0.234129,
     "end_time": "2023-05-26T14:57:04.423334",
     "exception": false,
     "start_time": "2023-05-26T14:57:04.189205",
     "status": "completed"
    },
    "tags": []
   },
   "outputs": [
    {
     "data": {
      "image/png": "[encoded data removed]",
      "text/plain": [
       "<Figure size 640x480 with 1 Axes>"
      ]
     },
     "metadata": {},
     "output_type": "display_data"
    }
   ],
   "source": [
    "sns.countplot(x=chess_data['rated']);"
   ]
  },
  {
   "cell_type": "markdown",
   "id": "6bfa2a52",
   "metadata": {
    "papermill": {
     "duration": 0.007265,
     "end_time": "2023-05-26T14:57:04.438242",
     "exception": false,
     "start_time": "2023-05-26T14:57:04.430977",
     "status": "completed"
    },
    "tags": []
   },
   "source": [
    "Vemos que as pessoas preferem, de longe, jogar partidas valendo rating. A quantidade de partidas com rating é cerca de 4 vezes maior do que sem rating."
   ]
  },
  {
   "cell_type": "markdown",
   "id": "e67e6b2a",
   "metadata": {
    "papermill": {
     "duration": 0.007093,
     "end_time": "2023-05-26T14:57:04.452874",
     "exception": false,
     "start_time": "2023-05-26T14:57:04.445781",
     "status": "completed"
    },
    "tags": []
   },
   "source": [
    "# Distribuição dos Ratings"
   ]
  },
  {
   "cell_type": "code",
   "execution_count": 8,
   "id": "d15c2644",
   "metadata": {
    "execution": {
     "iopub.execute_input": "2023-05-26T14:57:04.470025Z",
     "iopub.status.busy": "2023-05-26T14:57:04.469625Z",
     "iopub.status.idle": "2023-05-26T14:57:04.923564Z",
     "shell.execute_reply": "2023-05-26T14:57:04.922473Z"
    },
    "papermill": {
     "duration": 0.465564,
     "end_time": "2023-05-26T14:57:04.926080",
     "exception": false,
     "start_time": "2023-05-26T14:57:04.460516",
     "status": "completed"
    },
    "tags": []
   },
   "outputs": [
    {
     "data": {
      "image/png": "[encoded data removed]",
      "text/plain": [
       "<Figure size 640x480 with 1 Axes>"
      ]
     },
     "metadata": {},
     "output_type": "display_data"
    }
   ],
   "source": [
    "sns.kdeplot(data=chess_data['white_rating'], shade=True);"
   ]
  },
  {
   "cell_type": "markdown",
   "id": "f12c931d",
   "metadata": {
    "papermill": {
     "duration": 0.007774,
     "end_time": "2023-05-26T14:57:04.941982",
     "exception": false,
     "start_time": "2023-05-26T14:57:04.934208",
     "status": "completed"
    },
    "tags": []
   },
   "source": [
    "Podemos ver que o rating de brancas segue uma distribuição normal de probabilidade, com média de, aproximadamente, 1500, o que, obviamente, se confirma com a tabela que plotamos acima. O rating de pretas tende a seguir a mesma distribuição, já que os sites de xadrez emparceiram jogadores com ratings parecidos. Podemos confirmar isso com o código a seguir."
   ]
  },
  {
   "cell_type": "code",
   "execution_count": 9,
   "id": "adba7e40",
   "metadata": {
    "execution": {
     "iopub.execute_input": "2023-05-26T14:57:04.959898Z",
     "iopub.status.busy": "2023-05-26T14:57:04.959498Z",
     "iopub.status.idle": "2023-05-26T14:57:05.389963Z",
     "shell.execute_reply": "2023-05-26T14:57:05.388820Z"
    },
    "papermill": {
     "duration": 0.442647,
     "end_time": "2023-05-26T14:57:05.392668",
     "exception": false,
     "start_time": "2023-05-26T14:57:04.950021",
     "status": "completed"
    },
    "tags": []
   },
   "outputs": [
    {
     "data": {
      "image/png": "[encoded data removed]",
      "text/plain": [
       "<Figure size 640x480 with 1 Axes>"
      ]
     },
     "metadata": {},
     "output_type": "display_data"
    }
   ],
   "source": [
    "sns.kdeplot(data=chess_data['black_rating'], shade=True);"
   ]
  },
  {
   "cell_type": "markdown",
   "id": "25d14b9d",
   "metadata": {
    "papermill": {
     "duration": 0.008364,
     "end_time": "2023-05-26T14:57:05.410038",
     "exception": false,
     "start_time": "2023-05-26T14:57:05.401674",
     "status": "completed"
    },
    "tags": []
   },
   "source": [
    "Com isso, conclui-se que meu rating está na média, uma vez que tenho cerca de 1500 de rating no Lichess (não sou tão ruim quanto eu pensava)."
   ]
  }
 ],
 "metadata": {
  "kernelspec": {
   "display_name": "Python 3",
   "language": "python",
   "name": "python3"
  },
  "language_info": {
   "codemirror_mode": {
    "name": "ipython",
    "version": 3
   },
   "file_extension": ".py",
   "mimetype": "text/x-python",
   "name": "python",
   "nbconvert_exporter": "python",
   "pygments_lexer": "ipython3",
   "version": "3.10.10"
  },
  "papermill": {
   "default_parameters": {},
   "duration": 17.273285,
   "end_time": "2023-05-26T14:57:06.339627",
   "environment_variables": {},
   "exception": null,
   "input_path": "__notebook__.ipynb",
   "output_path": "__notebook__.ipynb",
   "parameters": {},
   "start_time": "2023-05-26T14:56:49.066342",
   "version": "2.4.0"
  }
 },
 "nbformat": 4,
 "nbformat_minor": 5
}
